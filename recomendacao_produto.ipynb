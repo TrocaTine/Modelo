{
 "cells": [
  {
   "cell_type": "code",
   "execution_count": 60,
   "metadata": {},
   "outputs": [],
   "source": [
    "# Pandas\n",
    "import pandas as pd\n",
    "\n",
    "# Numpy\n",
    "import numpy as np\n",
    "\n",
    "# Sklearn\n",
    "from sklearn import tree\n",
    "from sklearn.neighbors import KNeighborsClassifier\n",
    "from sklearn.model_selection import GridSearchCV, train_test_split\n",
    "from sklearn.metrics import classification_report, confusion_matrix, ConfusionMatrixDisplay\n",
    "\n",
    "# Plotly\n",
    "import plotly.graph_objects as go\n",
    "import matplotlib.pyplot as plt\n",
    "import seaborn as sns\n",
    "\n",
    "import pickle"
   ]
  },
  {
   "cell_type": "markdown",
   "metadata": {},
   "source": [
    "# Extraindo a Base"
   ]
  },
  {
   "cell_type": "code",
   "execution_count": 61,
   "metadata": {},
   "outputs": [
    {
     "data": {
      "text/html": [
       "<div>\n",
       "<style scoped>\n",
       "    .dataframe tbody tr th:only-of-type {\n",
       "        vertical-align: middle;\n",
       "    }\n",
       "\n",
       "    .dataframe tbody tr th {\n",
       "        vertical-align: top;\n",
       "    }\n",
       "\n",
       "    .dataframe thead th {\n",
       "        text-align: right;\n",
       "    }\n",
       "</style>\n",
       "<table border=\"1\" class=\"dataframe\">\n",
       "  <thead>\n",
       "    <tr style=\"text-align: right;\">\n",
       "      <th></th>\n",
       "      <th>category</th>\n",
       "      <th>favorite</th>\n",
       "      <th>price</th>\n",
       "      <th>product_id</th>\n",
       "      <th>user_id</th>\n",
       "    </tr>\n",
       "  </thead>\n",
       "  <tbody>\n",
       "    <tr>\n",
       "      <th>411</th>\n",
       "      <td>0.0</td>\n",
       "      <td>1.0</td>\n",
       "      <td>49.90</td>\n",
       "      <td>0.0</td>\n",
       "      <td>39.0</td>\n",
       "    </tr>\n",
       "    <tr>\n",
       "      <th>621</th>\n",
       "      <td>1.0</td>\n",
       "      <td>0.0</td>\n",
       "      <td>98.25</td>\n",
       "      <td>98.0</td>\n",
       "      <td>15.0</td>\n",
       "    </tr>\n",
       "    <tr>\n",
       "      <th>721</th>\n",
       "      <td>0.0</td>\n",
       "      <td>1.0</td>\n",
       "      <td>49.90</td>\n",
       "      <td>0.0</td>\n",
       "      <td>17.0</td>\n",
       "    </tr>\n",
       "    <tr>\n",
       "      <th>914</th>\n",
       "      <td>1.0</td>\n",
       "      <td>1.0</td>\n",
       "      <td>98.25</td>\n",
       "      <td>98.0</td>\n",
       "      <td>48.0</td>\n",
       "    </tr>\n",
       "    <tr>\n",
       "      <th>917</th>\n",
       "      <td>0.0</td>\n",
       "      <td>0.0</td>\n",
       "      <td>49.90</td>\n",
       "      <td>0.0</td>\n",
       "      <td>18.0</td>\n",
       "    </tr>\n",
       "    <tr>\n",
       "      <th>...</th>\n",
       "      <td>...</td>\n",
       "      <td>...</td>\n",
       "      <td>...</td>\n",
       "      <td>...</td>\n",
       "      <td>...</td>\n",
       "    </tr>\n",
       "    <tr>\n",
       "      <th>554</th>\n",
       "      <td>1.0</td>\n",
       "      <td>1.0</td>\n",
       "      <td>98.25</td>\n",
       "      <td>98.0</td>\n",
       "      <td>43.0</td>\n",
       "    </tr>\n",
       "    <tr>\n",
       "      <th>938</th>\n",
       "      <td>0.0</td>\n",
       "      <td>1.0</td>\n",
       "      <td>49.90</td>\n",
       "      <td>0.0</td>\n",
       "      <td>13.0</td>\n",
       "    </tr>\n",
       "    <tr>\n",
       "      <th>522</th>\n",
       "      <td>0.0</td>\n",
       "      <td>0.0</td>\n",
       "      <td>49.90</td>\n",
       "      <td>0.0</td>\n",
       "      <td>6.0</td>\n",
       "    </tr>\n",
       "    <tr>\n",
       "      <th>677</th>\n",
       "      <td>0.0</td>\n",
       "      <td>1.0</td>\n",
       "      <td>49.90</td>\n",
       "      <td>0.0</td>\n",
       "      <td>9.0</td>\n",
       "    </tr>\n",
       "    <tr>\n",
       "      <th>936</th>\n",
       "      <td>0.0</td>\n",
       "      <td>1.0</td>\n",
       "      <td>49.90</td>\n",
       "      <td>0.0</td>\n",
       "      <td>20.0</td>\n",
       "    </tr>\n",
       "  </tbody>\n",
       "</table>\n",
       "<p>100 rows × 5 columns</p>\n",
       "</div>"
      ],
      "text/plain": [
       "     category  favorite  price  product_id  user_id\n",
       "411       0.0       1.0  49.90         0.0     39.0\n",
       "621       1.0       0.0  98.25        98.0     15.0\n",
       "721       0.0       1.0  49.90         0.0     17.0\n",
       "914       1.0       1.0  98.25        98.0     48.0\n",
       "917       0.0       0.0  49.90         0.0     18.0\n",
       "..        ...       ...    ...         ...      ...\n",
       "554       1.0       1.0  98.25        98.0     43.0\n",
       "938       0.0       1.0  49.90         0.0     13.0\n",
       "522       0.0       0.0  49.90         0.0      6.0\n",
       "677       0.0       1.0  49.90         0.0      9.0\n",
       "936       0.0       1.0  49.90         0.0     20.0\n",
       "\n",
       "[100 rows x 5 columns]"
      ]
     },
     "metadata": {},
     "output_type": "display_data"
    }
   ],
   "source": [
    "base = pickle.load(open('./bases/interactions.pk1','rb'))\n",
    "\n",
    "atributo = base[0].iloc[:, :-1]\n",
    "resposta = base[0].iloc[:, -1]\n",
    "\n",
    "X_train, X_test, y_train, y_test = train_test_split(atributo, resposta, test_size=0.2, random_state=42)\n",
    "X_test, X_val, y_test, y_val = train_test_split(X_test, y_test, test_size=0.5, random_state=42)\n",
    "\n",
    "# Incluir idade e cidade\n",
    "display(X_test)"
   ]
  },
  {
   "cell_type": "markdown",
   "metadata": {},
   "source": [
    "# Teste entre tipos de modelos"
   ]
  },
  {
   "cell_type": "code",
   "execution_count": 62,
   "metadata": {},
   "outputs": [],
   "source": [
    "modelos = {}\n",
    "\n",
    "# Arvore - Tree\n",
    "parametros_tree = {\n",
    "    'criterion' : ['gini', 'entropy'],\n",
    "    'splitter' : ['best', 'random'],\n",
    "    'max_depth' : [None, 2, 4, 6, 8, 10, 12],\n",
    "    'min_samples_split' : [2, 5, 10],\n",
    "    'min_samples_leaf' : [1, 2, 5, 10],\n",
    "    'max_features' : [None, 'sqrt', 'log2']\n",
    "}\n",
    "\n",
    "modelos['tree'] = [tree.DecisionTreeClassifier(), parametros_tree]\n",
    "\n",
    "# KNN \n",
    "parametros_knn = {\n",
    "    'n_neighbors' : np.arange(3, 20),\n",
    "    'weights' : ['uniform', 'distance'],\n",
    "    'algorithm' : ['auto', 'kd_tree'],\n",
    "    'leaf_size' : np.arange(10, 30, 5),\n",
    "    'p' : [1, 2, 3],\n",
    "    'metric' : ['minkowski', 'manhattan'],\n",
    "    'n_jobs' : [1, -1]\n",
    "}\n",
    "\n",
    "modelos['knn'] = [KNeighborsClassifier(), parametros_knn]"
   ]
  },
  {
   "cell_type": "code",
   "execution_count": 63,
   "metadata": {},
   "outputs": [],
   "source": [
    "infos = {}\n",
    "\n",
    "for i in modelos.keys():\n",
    "    grid = GridSearchCV(estimator=modelos[i][0], param_grid=modelos[i][1], scoring='f1', cv=5)\n",
    "\n",
    "    grid.fit(X_train, y_train)\n",
    "\n",
    "    resultados = grid.cv_results_\n",
    "    best_index = grid.best_index_\n",
    "\n",
    "    infos[i] = [\n",
    "        grid.best_estimator_,\n",
    "        resultados['mean_test_score'][best_index]\n",
    "        ]"
   ]
  },
  {
   "cell_type": "markdown",
   "metadata": {},
   "source": [
    "## Visualização dos resultados"
   ]
  },
  {
   "cell_type": "code",
   "execution_count": 64,
   "metadata": {},
   "outputs": [
    {
     "data": {
      "application/vnd.plotly.v1+json": {
       "config": {
        "plotlyServerURL": "https://plot.ly"
       },
       "data": [
        {
         "text": [
          "0.593",
          "0.529"
         ],
         "textangle": 0,
         "textposition": "auto",
         "type": "bar",
         "x": [
          "tree",
          "knn"
         ],
         "y": [
          0.5933350443022853,
          0.5290981188194905
         ]
        }
       ],
       "layout": {
        "template": {
         "data": {
          "bar": [
           {
            "error_x": {
             "color": "#2a3f5f"
            },
            "error_y": {
             "color": "#2a3f5f"
            },
            "marker": {
             "line": {
              "color": "#E5ECF6",
              "width": 0.5
             },
             "pattern": {
              "fillmode": "overlay",
              "size": 10,
              "solidity": 0.2
             }
            },
            "type": "bar"
           }
          ],
          "barpolar": [
           {
            "marker": {
             "line": {
              "color": "#E5ECF6",
              "width": 0.5
             },
             "pattern": {
              "fillmode": "overlay",
              "size": 10,
              "solidity": 0.2
             }
            },
            "type": "barpolar"
           }
          ],
          "carpet": [
           {
            "aaxis": {
             "endlinecolor": "#2a3f5f",
             "gridcolor": "white",
             "linecolor": "white",
             "minorgridcolor": "white",
             "startlinecolor": "#2a3f5f"
            },
            "baxis": {
             "endlinecolor": "#2a3f5f",
             "gridcolor": "white",
             "linecolor": "white",
             "minorgridcolor": "white",
             "startlinecolor": "#2a3f5f"
            },
            "type": "carpet"
           }
          ],
          "choropleth": [
           {
            "colorbar": {
             "outlinewidth": 0,
             "ticks": ""
            },
            "type": "choropleth"
           }
          ],
          "contour": [
           {
            "colorbar": {
             "outlinewidth": 0,
             "ticks": ""
            },
            "colorscale": [
             [
              0,
              "#0d0887"
             ],
             [
              0.1111111111111111,
              "#46039f"
             ],
             [
              0.2222222222222222,
              "#7201a8"
             ],
             [
              0.3333333333333333,
              "#9c179e"
             ],
             [
              0.4444444444444444,
              "#bd3786"
             ],
             [
              0.5555555555555556,
              "#d8576b"
             ],
             [
              0.6666666666666666,
              "#ed7953"
             ],
             [
              0.7777777777777778,
              "#fb9f3a"
             ],
             [
              0.8888888888888888,
              "#fdca26"
             ],
             [
              1,
              "#f0f921"
             ]
            ],
            "type": "contour"
           }
          ],
          "contourcarpet": [
           {
            "colorbar": {
             "outlinewidth": 0,
             "ticks": ""
            },
            "type": "contourcarpet"
           }
          ],
          "heatmap": [
           {
            "colorbar": {
             "outlinewidth": 0,
             "ticks": ""
            },
            "colorscale": [
             [
              0,
              "#0d0887"
             ],
             [
              0.1111111111111111,
              "#46039f"
             ],
             [
              0.2222222222222222,
              "#7201a8"
             ],
             [
              0.3333333333333333,
              "#9c179e"
             ],
             [
              0.4444444444444444,
              "#bd3786"
             ],
             [
              0.5555555555555556,
              "#d8576b"
             ],
             [
              0.6666666666666666,
              "#ed7953"
             ],
             [
              0.7777777777777778,
              "#fb9f3a"
             ],
             [
              0.8888888888888888,
              "#fdca26"
             ],
             [
              1,
              "#f0f921"
             ]
            ],
            "type": "heatmap"
           }
          ],
          "heatmapgl": [
           {
            "colorbar": {
             "outlinewidth": 0,
             "ticks": ""
            },
            "colorscale": [
             [
              0,
              "#0d0887"
             ],
             [
              0.1111111111111111,
              "#46039f"
             ],
             [
              0.2222222222222222,
              "#7201a8"
             ],
             [
              0.3333333333333333,
              "#9c179e"
             ],
             [
              0.4444444444444444,
              "#bd3786"
             ],
             [
              0.5555555555555556,
              "#d8576b"
             ],
             [
              0.6666666666666666,
              "#ed7953"
             ],
             [
              0.7777777777777778,
              "#fb9f3a"
             ],
             [
              0.8888888888888888,
              "#fdca26"
             ],
             [
              1,
              "#f0f921"
             ]
            ],
            "type": "heatmapgl"
           }
          ],
          "histogram": [
           {
            "marker": {
             "pattern": {
              "fillmode": "overlay",
              "size": 10,
              "solidity": 0.2
             }
            },
            "type": "histogram"
           }
          ],
          "histogram2d": [
           {
            "colorbar": {
             "outlinewidth": 0,
             "ticks": ""
            },
            "colorscale": [
             [
              0,
              "#0d0887"
             ],
             [
              0.1111111111111111,
              "#46039f"
             ],
             [
              0.2222222222222222,
              "#7201a8"
             ],
             [
              0.3333333333333333,
              "#9c179e"
             ],
             [
              0.4444444444444444,
              "#bd3786"
             ],
             [
              0.5555555555555556,
              "#d8576b"
             ],
             [
              0.6666666666666666,
              "#ed7953"
             ],
             [
              0.7777777777777778,
              "#fb9f3a"
             ],
             [
              0.8888888888888888,
              "#fdca26"
             ],
             [
              1,
              "#f0f921"
             ]
            ],
            "type": "histogram2d"
           }
          ],
          "histogram2dcontour": [
           {
            "colorbar": {
             "outlinewidth": 0,
             "ticks": ""
            },
            "colorscale": [
             [
              0,
              "#0d0887"
             ],
             [
              0.1111111111111111,
              "#46039f"
             ],
             [
              0.2222222222222222,
              "#7201a8"
             ],
             [
              0.3333333333333333,
              "#9c179e"
             ],
             [
              0.4444444444444444,
              "#bd3786"
             ],
             [
              0.5555555555555556,
              "#d8576b"
             ],
             [
              0.6666666666666666,
              "#ed7953"
             ],
             [
              0.7777777777777778,
              "#fb9f3a"
             ],
             [
              0.8888888888888888,
              "#fdca26"
             ],
             [
              1,
              "#f0f921"
             ]
            ],
            "type": "histogram2dcontour"
           }
          ],
          "mesh3d": [
           {
            "colorbar": {
             "outlinewidth": 0,
             "ticks": ""
            },
            "type": "mesh3d"
           }
          ],
          "parcoords": [
           {
            "line": {
             "colorbar": {
              "outlinewidth": 0,
              "ticks": ""
             }
            },
            "type": "parcoords"
           }
          ],
          "pie": [
           {
            "automargin": true,
            "type": "pie"
           }
          ],
          "scatter": [
           {
            "fillpattern": {
             "fillmode": "overlay",
             "size": 10,
             "solidity": 0.2
            },
            "type": "scatter"
           }
          ],
          "scatter3d": [
           {
            "line": {
             "colorbar": {
              "outlinewidth": 0,
              "ticks": ""
             }
            },
            "marker": {
             "colorbar": {
              "outlinewidth": 0,
              "ticks": ""
             }
            },
            "type": "scatter3d"
           }
          ],
          "scattercarpet": [
           {
            "marker": {
             "colorbar": {
              "outlinewidth": 0,
              "ticks": ""
             }
            },
            "type": "scattercarpet"
           }
          ],
          "scattergeo": [
           {
            "marker": {
             "colorbar": {
              "outlinewidth": 0,
              "ticks": ""
             }
            },
            "type": "scattergeo"
           }
          ],
          "scattergl": [
           {
            "marker": {
             "colorbar": {
              "outlinewidth": 0,
              "ticks": ""
             }
            },
            "type": "scattergl"
           }
          ],
          "scattermapbox": [
           {
            "marker": {
             "colorbar": {
              "outlinewidth": 0,
              "ticks": ""
             }
            },
            "type": "scattermapbox"
           }
          ],
          "scatterpolar": [
           {
            "marker": {
             "colorbar": {
              "outlinewidth": 0,
              "ticks": ""
             }
            },
            "type": "scatterpolar"
           }
          ],
          "scatterpolargl": [
           {
            "marker": {
             "colorbar": {
              "outlinewidth": 0,
              "ticks": ""
             }
            },
            "type": "scatterpolargl"
           }
          ],
          "scatterternary": [
           {
            "marker": {
             "colorbar": {
              "outlinewidth": 0,
              "ticks": ""
             }
            },
            "type": "scatterternary"
           }
          ],
          "surface": [
           {
            "colorbar": {
             "outlinewidth": 0,
             "ticks": ""
            },
            "colorscale": [
             [
              0,
              "#0d0887"
             ],
             [
              0.1111111111111111,
              "#46039f"
             ],
             [
              0.2222222222222222,
              "#7201a8"
             ],
             [
              0.3333333333333333,
              "#9c179e"
             ],
             [
              0.4444444444444444,
              "#bd3786"
             ],
             [
              0.5555555555555556,
              "#d8576b"
             ],
             [
              0.6666666666666666,
              "#ed7953"
             ],
             [
              0.7777777777777778,
              "#fb9f3a"
             ],
             [
              0.8888888888888888,
              "#fdca26"
             ],
             [
              1,
              "#f0f921"
             ]
            ],
            "type": "surface"
           }
          ],
          "table": [
           {
            "cells": {
             "fill": {
              "color": "#EBF0F8"
             },
             "line": {
              "color": "white"
             }
            },
            "header": {
             "fill": {
              "color": "#C8D4E3"
             },
             "line": {
              "color": "white"
             }
            },
            "type": "table"
           }
          ]
         },
         "layout": {
          "annotationdefaults": {
           "arrowcolor": "#2a3f5f",
           "arrowhead": 0,
           "arrowwidth": 1
          },
          "autotypenumbers": "strict",
          "coloraxis": {
           "colorbar": {
            "outlinewidth": 0,
            "ticks": ""
           }
          },
          "colorscale": {
           "diverging": [
            [
             0,
             "#8e0152"
            ],
            [
             0.1,
             "#c51b7d"
            ],
            [
             0.2,
             "#de77ae"
            ],
            [
             0.3,
             "#f1b6da"
            ],
            [
             0.4,
             "#fde0ef"
            ],
            [
             0.5,
             "#f7f7f7"
            ],
            [
             0.6,
             "#e6f5d0"
            ],
            [
             0.7,
             "#b8e186"
            ],
            [
             0.8,
             "#7fbc41"
            ],
            [
             0.9,
             "#4d9221"
            ],
            [
             1,
             "#276419"
            ]
           ],
           "sequential": [
            [
             0,
             "#0d0887"
            ],
            [
             0.1111111111111111,
             "#46039f"
            ],
            [
             0.2222222222222222,
             "#7201a8"
            ],
            [
             0.3333333333333333,
             "#9c179e"
            ],
            [
             0.4444444444444444,
             "#bd3786"
            ],
            [
             0.5555555555555556,
             "#d8576b"
            ],
            [
             0.6666666666666666,
             "#ed7953"
            ],
            [
             0.7777777777777778,
             "#fb9f3a"
            ],
            [
             0.8888888888888888,
             "#fdca26"
            ],
            [
             1,
             "#f0f921"
            ]
           ],
           "sequentialminus": [
            [
             0,
             "#0d0887"
            ],
            [
             0.1111111111111111,
             "#46039f"
            ],
            [
             0.2222222222222222,
             "#7201a8"
            ],
            [
             0.3333333333333333,
             "#9c179e"
            ],
            [
             0.4444444444444444,
             "#bd3786"
            ],
            [
             0.5555555555555556,
             "#d8576b"
            ],
            [
             0.6666666666666666,
             "#ed7953"
            ],
            [
             0.7777777777777778,
             "#fb9f3a"
            ],
            [
             0.8888888888888888,
             "#fdca26"
            ],
            [
             1,
             "#f0f921"
            ]
           ]
          },
          "colorway": [
           "#636efa",
           "#EF553B",
           "#00cc96",
           "#ab63fa",
           "#FFA15A",
           "#19d3f3",
           "#FF6692",
           "#B6E880",
           "#FF97FF",
           "#FECB52"
          ],
          "font": {
           "color": "#2a3f5f"
          },
          "geo": {
           "bgcolor": "white",
           "lakecolor": "white",
           "landcolor": "#E5ECF6",
           "showlakes": true,
           "showland": true,
           "subunitcolor": "white"
          },
          "hoverlabel": {
           "align": "left"
          },
          "hovermode": "closest",
          "mapbox": {
           "style": "light"
          },
          "paper_bgcolor": "white",
          "plot_bgcolor": "#E5ECF6",
          "polar": {
           "angularaxis": {
            "gridcolor": "white",
            "linecolor": "white",
            "ticks": ""
           },
           "bgcolor": "#E5ECF6",
           "radialaxis": {
            "gridcolor": "white",
            "linecolor": "white",
            "ticks": ""
           }
          },
          "scene": {
           "xaxis": {
            "backgroundcolor": "#E5ECF6",
            "gridcolor": "white",
            "gridwidth": 2,
            "linecolor": "white",
            "showbackground": true,
            "ticks": "",
            "zerolinecolor": "white"
           },
           "yaxis": {
            "backgroundcolor": "#E5ECF6",
            "gridcolor": "white",
            "gridwidth": 2,
            "linecolor": "white",
            "showbackground": true,
            "ticks": "",
            "zerolinecolor": "white"
           },
           "zaxis": {
            "backgroundcolor": "#E5ECF6",
            "gridcolor": "white",
            "gridwidth": 2,
            "linecolor": "white",
            "showbackground": true,
            "ticks": "",
            "zerolinecolor": "white"
           }
          },
          "shapedefaults": {
           "line": {
            "color": "#2a3f5f"
           }
          },
          "ternary": {
           "aaxis": {
            "gridcolor": "white",
            "linecolor": "white",
            "ticks": ""
           },
           "baxis": {
            "gridcolor": "white",
            "linecolor": "white",
            "ticks": ""
           },
           "bgcolor": "#E5ECF6",
           "caxis": {
            "gridcolor": "white",
            "linecolor": "white",
            "ticks": ""
           }
          },
          "title": {
           "x": 0.05
          },
          "xaxis": {
           "automargin": true,
           "gridcolor": "white",
           "linecolor": "white",
           "ticks": "",
           "title": {
            "standoff": 15
           },
           "zerolinecolor": "white",
           "zerolinewidth": 2
          },
          "yaxis": {
           "automargin": true,
           "gridcolor": "white",
           "linecolor": "white",
           "ticks": "",
           "title": {
            "standoff": 15
           },
           "zerolinecolor": "white",
           "zerolinewidth": 2
          }
         }
        },
        "title": {
         "text": "Performace dos modelos"
        },
        "xaxis": {
         "title": {
          "text": "Bases"
         }
        },
        "yaxis": {
         "title": {
          "text": "F1 Score"
         }
        }
       }
      }
     },
     "metadata": {},
     "output_type": "display_data"
    }
   ],
   "source": [
    "fig_tree = go.Figure()\n",
    "\n",
    "x = list(infos.keys())\n",
    "y = list()\n",
    "\n",
    "for i in x:\n",
    "    y.append(infos[i][1])\n",
    "y_formatted = [round(value, 3) for value in y]\n",
    "\n",
    "fig_tree.add_bar(x=x, y=y, text=y_formatted, textposition='auto', textangle=-360)\n",
    "\n",
    "fig_tree.update_layout(\n",
    "    title='Performace dos modelos',\n",
    "    xaxis_title='Bases',\n",
    "    yaxis_title='F1 Score'\n",
    ")\n",
    "\n",
    "fig_tree.show()"
   ]
  },
  {
   "cell_type": "markdown",
   "metadata": {},
   "source": [
    "# Teste para validação"
   ]
  },
  {
   "cell_type": "code",
   "execution_count": 65,
   "metadata": {},
   "outputs": [],
   "source": [
    "melhor_modelo = infos['tree'][0]\n",
    "melhor_modelo.fit(X_train, y_train)\n",
    "\n",
    "y_pred = melhor_modelo.predict(X_val)"
   ]
  },
  {
   "cell_type": "markdown",
   "metadata": {},
   "source": [
    "## Metricas"
   ]
  },
  {
   "cell_type": "code",
   "execution_count": 68,
   "metadata": {},
   "outputs": [
    {
     "name": "stdout",
     "output_type": "stream",
     "text": [
      "Reporte das Métricas que foram testadas:\n",
      "               precision    recall  f1-score   support\n",
      "\n",
      "           0       0.47      0.75      0.58        44\n",
      "           1       0.63      0.34      0.44        56\n",
      "\n",
      "    accuracy                           0.52       100\n",
      "   macro avg       0.55      0.54      0.51       100\n",
      "weighted avg       0.56      0.52      0.50       100\n",
      "\n",
      "[[33 11]\n",
      " [37 19]]\n"
     ]
    },
    {
     "data": {
      "image/png": "[encoded data removed]",
      "text/plain": [
       "<Figure size 640x480 with 2 Axes>"
      ]
     },
     "metadata": {},
     "output_type": "display_data"
    }
   ],
   "source": [
    "print(\"Reporte das Métricas que foram testadas:\\n\", classification_report(y_val, y_pred))\n",
    "\n",
    "matriz_de_confusao = confusion_matrix(y_val, y_pred)\n",
    "print(matriz_de_confusao)\n",
    "\n",
    "sns.heatmap(matriz_de_confusao, square=True, annot=True, fmt='d', cbar=True,\n",
    "            yticklabels=['yes','no'],\n",
    "            xticklabels=['yes','no'])\n",
    "plt.title('Matriz de Confusão')\n",
    "plt.xlabel('Previsto')\n",
    "plt.ylabel('Verdadeiro')\n",
    "plt.tight_layout()\n",
    "plt.show()"
   ]
  },
  {
   "cell_type": "markdown",
   "metadata": {},
   "source": [
    "# Teste do Usuario"
   ]
  },
  {
   "cell_type": "code",
   "execution_count": 9,
   "metadata": {},
   "outputs": [],
   "source": [
    "\n",
    "\n",
    "# products = [\n",
    "#     {'product_id': 1, 'preco': 49.90, 'category': 'Brinquedos'}, \n",
    "#     {'product_id': 2, 'preco': 39.90, 'category': 'Roupas'}, \n",
    "#     {'product_id': 3, 'preco': 59.90, 'category': 'Livros'}\n",
    "# ]\n",
    "\n",
    "# product_features = []\n",
    "\n",
    "# for i in range(len(X_test)):\n",
    "#     for product in products:\n",
    "#         product_features.append([\n",
    "#             product['category'],\n",
    "#             X_test.loc[i, 'favorite'],\n",
    "#             product['preco'],\n",
    "#             product['product_id'],\n",
    "#             X_test.loc[i, 'user_id']\n",
    "#         ])\n",
    "\n",
    "# product_features_df = pd.DataFrame(product_features, columns=['category', 'favorite', 'preco', 'product_id', 'user_id',])\n",
    "\n",
    "# product_features_df = pd.DataFrame(base[1].fit_transform(product_features_df), columns=base[1].get_feature_names_out())\n",
    "\n",
    "# product_features_df = product_features_df.sort_index(axis=1)\n",
    "\n",
    "# probabilities = melhor_modelo.predict_proba(product_features_df)[:, 1]\n",
    "\n",
    "# for i in range(len(products)):\n",
    "#     products[i]['probabilidade_consumo'] = probabilities[i]\n",
    "\n",
    "# recommended_products = sorted(products, key=lambda x: x['probabilidade_consumo'], reverse=True)\n",
    "\n",
    "# print(\"Lista de produtos recomendados (do mais provável ao menos provável):\")\n",
    "# for product in recommended_products:\n",
    "#     print(f\"Produto {product['product_id']} - Probabilidade de compra: {product['probabilidade_consumo']:.2f}\")"
   ]
  },
  {
   "cell_type": "code",
   "execution_count": 67,
   "metadata": {},
   "outputs": [
    {
     "name": "stdout",
     "output_type": "stream",
     "text": [
      "Lista de produtos recomendados (do mais provável ao menos provável):\n",
      "Produto 1 - Probabilidade de compra: 0.49\n",
      "Produto 2 - Probabilidade de compra: 0.49\n",
      "Produto 3 - Probabilidade de compra: 0.49\n",
      "Produto 4 - Probabilidade de compra: 0.49\n",
      "Produto 5 - Probabilidade de compra: 0.49\n"
     ]
    }
   ],
   "source": [
    "import pandas as pd\n",
    "\n",
    "products = [\n",
    "    {'product_id': 1, 'price': 49.90, 'category': 'Brinquedos'}, \n",
    "    {'product_id': 2, 'price': 39.90, 'category': 'Roupas'}, \n",
    "    {'product_id': 3, 'price': 59.90, 'category': 'Livros'}, \n",
    "    {'product_id': 4, 'price': 19.90, 'category': 'Acessorios'}, \n",
    "    {'product_id': 5, 'price': 29.90, 'category': 'Materiais Escolares'}, \n",
    "    {'product_id': 6, 'price': 79.90, 'category': 'Moveis'}, \n",
    "    {'product_id': 7, 'price': 45.00, 'category': 'Jogos'}, \n",
    "    {'product_id': 8, 'price': 34.90, 'category': 'Tecnologia Educativa'}, \n",
    "    {'product_id': 9, 'price': 89.90, 'category': 'Bolsas e Mochilas'}, \n",
    "    {'product_id': 10, 'price': 9.99, 'category': 'Artes'}, \n",
    "    {'product_id': 11, 'price': 19.99, 'category': 'Decoracao'}, \n",
    "    {'product_id': 12, 'price': 5.50, 'category': 'Fantasia'}, \n",
    "    {'product_id': 13, 'price': 24.90, 'category': 'Esportes'}, \n",
    "    {'product_id': 14, 'price': 14.90, 'category': 'Brinquedos'}, \n",
    "    {'product_id': 15, 'price': 99.90, 'category': 'Roupas'}, \n",
    "    {'product_id': 16, 'price': 15.99, 'category': 'Livros'}, \n",
    "    {'product_id': 17, 'price': 7.50, 'category': 'Acessorios'}, \n",
    "    {'product_id': 18, 'price': 12.99, 'category': 'Materiais Escolares'}, \n",
    "    {'product_id': 19, 'price': 22.50, 'category': 'Moveis'}, \n",
    "    {'product_id': 20, 'price': 32.75, 'category': 'Jogos'}, \n",
    "    {'product_id': 21, 'price': 41.25, 'category': 'Tecnologia Educativa'}, \n",
    "    {'product_id': 22, 'price': 58.00, 'category': 'Bolsas e Mochilas'}, \n",
    "    {'product_id': 23, 'price': 68.30, 'category': 'Artes'}, \n",
    "    {'product_id': 24, 'price': 73.95, 'category': 'Decoracao'}, \n",
    "    {'product_id': 25, 'price': 82.10, 'category': 'Fantasia'}, \n",
    "    {'product_id': 26, 'price': 90.00, 'category': 'Esportes'}, \n",
    "    {'product_id': 27, 'price': 95.50, 'category': 'Brinquedos'}, \n",
    "    {'product_id': 28, 'price': 11.45, 'category': 'Roupas'}, \n",
    "    {'product_id': 29, 'price': 16.80, 'category': 'Livros'}, \n",
    "    {'product_id': 30, 'price': 21.60, 'category': 'Acessorios'}, \n",
    "    {'product_id': 31, 'price': 27.50, 'category': 'Materiais Escolares'}, \n",
    "    {'product_id': 32, 'price': 33.90, 'category': 'Moveis'}, \n",
    "    {'product_id': 33, 'price': 48.25, 'category': 'Jogos'}, \n",
    "    {'product_id': 34, 'price': 54.99, 'category': 'Tecnologia Educativa'}, \n",
    "    {'product_id': 35, 'price': 61.40, 'category': 'Bolsas e Mochilas'}, \n",
    "    {'product_id': 36, 'price': 75.00, 'category': 'Artes'}, \n",
    "    {'product_id': 37, 'price': 88.80, 'category': 'Decoracao'}, \n",
    "    {'product_id': 38, 'price': 14.75, 'category': 'Fantasia'}, \n",
    "    {'product_id': 39, 'price': 20.99, 'category': 'Esportes'}, \n",
    "    {'product_id': 40, 'price': 30.00, 'category': 'Brinquedos'}, \n",
    "    {'product_id': 41, 'price': 36.40, 'category': 'Roupas'}, \n",
    "    {'product_id': 42, 'price': 42.90, 'category': 'Livros'}, \n",
    "    {'product_id': 43, 'price': 53.70, 'category': 'Acessorios'}, \n",
    "    {'product_id': 44, 'price': 60.00, 'category': 'Materiais Escolares'}, \n",
    "    {'product_id': 45, 'price': 66.60, 'category': 'Moveis'}, \n",
    "    {'product_id': 46, 'price': 77.50, 'category': 'Jogos'}, \n",
    "    {'product_id': 47, 'price': 85.25, 'category': 'Tecnologia Educativa'}, \n",
    "    {'product_id': 48, 'price': 92.75, 'category': 'Bolsas e Mochilas'}, \n",
    "    {'product_id': 49, 'price': 18.50, 'category': 'Artes'}, \n",
    "    {'product_id': 50, 'price': 29.50, 'category': 'Decoracao'}, \n",
    "    {'product_id': 51, 'price': 4.99, 'category': 'Fantasia'}, \n",
    "    {'product_id': 52, 'price': 8.75, 'category': 'Esportes'}, \n",
    "    {'product_id': 53, 'price': 13.49, 'category': 'Brinquedos'}, \n",
    "    {'product_id': 54, 'price': 17.00, 'category': 'Roupas'}, \n",
    "    {'product_id': 55, 'price': 23.99, 'category': 'Livros'}, \n",
    "    {'product_id': 56, 'price': 26.99, 'category': 'Acessorios'}, \n",
    "    {'product_id': 57, 'price': 31.50, 'category': 'Materiais Escolares'}, \n",
    "    {'product_id': 58, 'price': 35.00, 'category': 'Moveis'}, \n",
    "    {'product_id': 59, 'price': 40.00, 'category': 'Jogos'}, \n",
    "    {'product_id': 60, 'price': 43.99, 'category': 'Tecnologia Educativa'}, \n",
    "    {'product_id': 61, 'price': 47.75, 'category': 'Bolsas e Mochilas'}, \n",
    "    {'product_id': 62, 'price': 50.50, 'category': 'Artes'}, \n",
    "    {'product_id': 63, 'price': 52.00, 'category': 'Decoracao'}, \n",
    "    {'product_id': 64, 'price': 55.50, 'category': 'Fantasia'}, \n",
    "    {'product_id': 65, 'price': 62.50, 'category': 'Esportes'}, \n",
    "    {'product_id': 66, 'price': 67.00, 'category': 'Brinquedos'}, \n",
    "    {'product_id': 67, 'price': 70.99, 'category': 'Roupas'}, \n",
    "    {'product_id': 68, 'price': 72.25, 'category': 'Livros'}, \n",
    "    {'product_id': 69, 'price': 76.00, 'category': 'Acessorios'}, \n",
    "    {'product_id': 70, 'price': 80.50, 'category': 'Materiais Escolares'}, \n",
    "    {'product_id': 71, 'price': 83.00, 'category': 'Moveis'}, \n",
    "    {'product_id': 72, 'price': 86.40, 'category': 'Jogos'}, \n",
    "    {'product_id': 73, 'price': 91.00, 'category': 'Tecnologia Educativa'}, \n",
    "    {'product_id': 74, 'price': 93.40, 'category': 'Bolsas e Mochilas'}, \n",
    "    {'product_id': 75, 'price': 96.30, 'category': 'Artes'}, \n",
    "    {'product_id': 76, 'price': 97.50, 'category': 'Decoracao'}, \n",
    "    {'product_id': 77, 'price': 10.50, 'category': 'Fantasia'}, \n",
    "    {'product_id': 78, 'price': 15.25, 'category': 'Esportes'}, \n",
    "    {'product_id': 79, 'price': 18.75, 'category': 'Brinquedos'}, \n",
    "    {'product_id': 80, 'price': 20.00, 'category': 'Roupas'}, \n",
    "    {'product_id': 81, 'price': 25.00, 'category': 'Livros'}, \n",
    "    {'product_id': 82, 'price': 28.00, 'category': 'Acessorios'}, \n",
    "    {'product_id': 83, 'price': 33.00, 'category': 'Materiais Escolares'}, \n",
    "    {'product_id': 84, 'price': 37.50, 'category': 'Moveis'}, \n",
    "    {'product_id': 85, 'price': 44.50, 'category': 'Jogos'}, \n",
    "    {'product_id': 86, 'price': 46.00, 'category': 'Tecnologia Educativa'}, \n",
    "    {'product_id': 87, 'price': 49.00, 'category': 'Bolsas e Mochilas'}, \n",
    "    {'product_id': 88, 'price': 51.00, 'category': 'Artes'}, \n",
    "    {'product_id': 89, 'price': 56.25, 'category': 'Decoracao'}, \n",
    "    {'product_id': 90, 'price': 63.50, 'category': 'Fantasia'}, \n",
    "    {'product_id': 91, 'price': 64.75, 'category': 'Esportes'}, \n",
    "    {'product_id': 92, 'price': 69.00, 'category': 'Brinquedos'}, \n",
    "    {'product_id': 93, 'price': 74.00, 'category': 'Roupas'}, \n",
    "    {'product_id': 94, 'price': 78.99, 'category': 'Livros'}, \n",
    "    {'product_id': 95, 'price': 81.25, 'category': 'Acessorios'}, \n",
    "    {'product_id': 96, 'price': 84.75, 'category': 'Materiais Escolares'}, \n",
    "    {'product_id': 97, 'price': 88.25, 'category': 'Moveis'}, \n",
    "    {'product_id': 98, 'price': 94.00, 'category': 'Jogos'}, \n",
    "    {'product_id': 99, 'price': 98.25, 'category': 'Tecnologia Educativa'}\n",
    "]\n",
    "\n",
    "product_features = []\n",
    "\n",
    "teste = X_test.reset_index()\n",
    "\n",
    "for i in range(0, len(teste)):\n",
    "    for product in products:\n",
    "        product_features.append([\n",
    "            product['category'],\n",
    "            teste['favorite'][i],\n",
    "            product['price'],\n",
    "            product['product_id'],\n",
    "            teste['user_id'][i]\n",
    "        ])\n",
    "\n",
    "product_features_df = pd.DataFrame(product_features, columns=['category', 'favorite', 'price', 'product_id', 'user_id'])\n",
    "\n",
    "transformador = base[1]\n",
    "\n",
    "df_transformado2 = pd.DataFrame(transformador.transform(product_features_df), columns=transformador.get_feature_names_out())\n",
    "\n",
    "product_features_df = df_transformado2.sort_index(axis=1)\n",
    "\n",
    "probabilities = melhor_modelo.predict_proba(product_features_df)[:, 1]\n",
    "\n",
    "for i in range(len(products)):\n",
    "    products[i]['probabilidade_consumo'] = probabilities[i]\n",
    "\n",
    "recommended_products = sorted(products, key=lambda x: x['probabilidade_consumo'], reverse=True)\n",
    "\n",
    "recommended_products = recommended_products[:5]\n",
    "\n",
    "print(\"Lista de produtos recomendados (do mais provável ao menos provável):\")\n",
    "for product in recommended_products:\n",
    "    print(f\"Produto {product['product_id']} - Probabilidade de compra: {product['probabilidade_consumo']:.2f}\")"
   ]
  }
 ],
 "metadata": {
  "kernelspec": {
   "display_name": "Python 3",
   "language": "python",
   "name": "python3"
  },
  "language_info": {
   "codemirror_mode": {
    "name": "ipython",
    "version": 3
   },
   "file_extension": ".py",
   "mimetype": "text/x-python",
   "name": "python",
   "nbconvert_exporter": "python",
   "pygments_lexer": "ipython3",
   "version": "3.12.2"
  }
 },
 "nbformat": 4,
 "nbformat_minor": 2
}
